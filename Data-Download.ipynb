{
  "nbformat": 4,
  "nbformat_minor": 0,
  "metadata": {
    "colab": {
      "name": "Untitled40.ipynb",
      "provenance": [],
      "collapsed_sections": [],
      "authorship_tag": "ABX9TyNlTbsgZzcrWGGuEFkYh074",
      "include_colab_link": true
    },
    "kernelspec": {
      "name": "python3",
      "display_name": "Python 3"
    },
    "language_info": {
      "name": "python"
    }
  },
  "cells": [
    {
      "cell_type": "markdown",
      "metadata": {
        "id": "view-in-github",
        "colab_type": "text"
      },
      "source": [
        "<a href=\"https://colab.research.google.com/github/Mattbrake951/Rspberry-Shake-data/blob/main/Data-Download.ipynb\" target=\"_parent\"><img src=\"https://colab.research.google.com/assets/colab-badge.svg\" alt=\"Open In Colab\"/></a>"
      ]
    },
    {
      "cell_type": "markdown",
      "source": [
        "# Welcome to the Colab Notebook \n",
        "\n",
        "This Notebook will be used for downloading data from Raspberry Shake.\n",
        "\n",
        "To get started, Run the code line below to import and install the required package for this activity - Obspy\n",
        "\n",
        "To run the code, click on the ![image.png](data:image/png;base64,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) icon. Note the download may take a moment."
      ],
      "metadata": {
        "id": "iL91K3rfYAwg"
      }
    },
    {
      "cell_type": "code",
      "execution_count": 1,
      "metadata": {
        "id": "E_TYO1DqPRPR"
      },
      "outputs": [],
      "source": [
        "try:\n",
        "  import obspy\n",
        "except:\n",
        "  !pip install obspy"
      ]
    },
    {
      "cell_type": "markdown",
      "source": [
        "# Restart Runtime\n",
        "\n",
        "After installing obspy, you need to restart the runtime. Select the \"Runtime\" menu, and select \"Restart runtime\".\n",
        "\n",
        "(This is due to a subtlety of how Google Colab works)"
      ],
      "metadata": {
        "id": "Uox7NGARY6NT"
      }
    },
    {
      "cell_type": "markdown",
      "source": [
        "# Downloading Data!\n",
        "\n",
        "In the code below you will see a 'obspy.read()' and a 'stream.plot()' functions. these read in the data from a file and plots it. \n",
        "\n",
        "\n",
        "\n"
      ],
      "metadata": {
        "id": "_pzg2mgwbkJP"
      }
    },
    {
      "cell_type": "code",
      "source": [
        "files={\n",
        "    'Cardiff':{'url':'https://github.com/Mattbrake951/Rspberry-Shake-data/raw/main/query-1','filename':'Cardiff.mseed'},\n",
        "    'Sydney':{'url':'https://github.com/Mattbrake951/Rspberry-Shake-data/raw/main/query-2','filename':'Sydney.mseed'},\n",
        "    'California':{'url':'https://github.com/Mattbrake951/Rspberry-Shake-data/raw/main/query-3','filename':'California.mseed'},\n",
        "    'Greenland':{'url':'https://github.com/Mattbrake951/Rspberry-Shake-data/raw/main/query-5','filename':'Greenland.mseed'},\n",
        "    'China':{'url':'https://github.com/Mattbrake951/Rspberry-Shake-data/raw/main/query-6','filename':'China.mseed'},\n",
        "    'China2.0':{'url':'https://github.com/Mattbrake951/Rspberry-Shake-data/raw/main/query-7','filename':'China2.0.mseed'},\n",
        "}"
      ],
      "metadata": {
        "id": "WkZ2gZ5-Qmga"
      },
      "execution_count": 43,
      "outputs": []
    },
    {
      "cell_type": "code",
      "source": [
        "#Places near Tech plates:\n",
        "#Sydney, California, China\n",
        "\n",
        "#Shake info:\n",
        "#sydney, california = 4D\n",
        "#Cardiff, Greenland, China = 1D:"
      ],
      "metadata": {
        "id": "FQbSKtNmh3QS"
      },
      "execution_count": null,
      "outputs": []
    },
    {
      "cell_type": "code",
      "source": [
        "name='China2.0'\n",
        "import os\n",
        "if not os.path.isfile(files[name]['filename']):\n",
        "  command='wget {} -O {}'.format(files[name]['url'],files[name]['filename'])\n",
        "  # command='wget '+files[name]['url']+' -O '+files[name]['filename']\n",
        "  print('running command:',command)\n",
        "  res=os.system(command)\n",
        "  if res==0:\n",
        "    print('file successfully dowloaded to {}'.format(files[name]['filename']))\n",
        "  else:\n",
        "    print('problem downloading from {}: {}'.format(files[name]['url'],res))\n",
        "else:\n",
        "  print('File already downloaded to {}'.format(files[name]['filename']))"
      ],
      "metadata": {
        "id": "B9S7BOI6h68I",
        "outputId": "0dc68c11-2580-4a83-bd6c-90d9fb0ab84d",
        "colab": {
          "base_uri": "https://localhost:8080/"
        }
      },
      "execution_count": 44,
      "outputs": [
        {
          "output_type": "stream",
          "name": "stdout",
          "text": [
            "running command: wget https://github.com/Mattbrake951/Rspberry-Shake-data/raw/main/query-7 -O China2.0.mseed\n",
            "file successfully dowloaded to China2.0.mseed\n"
          ]
        }
      ]
    },
    {
      "cell_type": "code",
      "source": [
        "stream=obspy.read(files[name]['filename'])\n",
        "stream.plot()"
      ],
      "metadata": {
        "id": "s9eYS0N7h_hb"
      },
      "execution_count": null,
      "outputs": []
    },
    {
      "cell_type": "code",
      "source": [
        "from datetime import datetime\n",
        "# starttime=obspy.UTCDateTime('2022-02-27T016:00')\n",
        "starttime=obspy.UTCDateTime(year=2022,month=3,day=7,hour=8)\n",
        "endtime=obspy.UTCDateTime(year=2022,month=3,day=7,hour=9)\n",
        "print('plotting from {} to {}'.format(starttime,endtime))\n",
        "# endtime=obspy.UTCDateTime('2022-02-27T08:00')\n",
        "stream.plot(starttime=starttime,endtime=endtime)"
      ],
      "metadata": {
        "id": "bvWbsWYLkwNk"
      },
      "execution_count": null,
      "outputs": []
    },
    {
      "cell_type": "code",
      "source": [
        "#stream=obspy.read('filename')\n",
        "#stream.plot()"
      ],
      "metadata": {
        "id": "rSryEz03_lN6"
      },
      "execution_count": null,
      "outputs": []
    },
    {
      "cell_type": "code",
      "source": [
        "#import os\n",
        "#if not os.path.isfile('query-1'):\n",
        "  #!wget https://github.com/Mattbrake951/Rspberry-Shake-data/raw/main/query-1\n",
        "#else:\n",
        "  #print('file already downloaded to Colab files')\n",
        "\n",
        "#stream=obspy.read('query-1')\n",
        "#stream.plot()\n"
      ],
      "metadata": {
        "id": "GFNUrjx1aRY0"
      },
      "execution_count": null,
      "outputs": []
    },
    {
      "cell_type": "code",
      "source": [
        "#if not os.path.isfile('query-1'):\n",
        "  #!wget https://github.com/Mattbrake951/Rspberry-Shake-data/raw/main/query-1\n",
        "#else:\n",
        "  #print('file already downloaded to Colab files')\n",
        "\n",
        "#stream=obspy.read('query-1')\n",
        "#stream.plot()"
      ],
      "metadata": {
        "id": "hA1Wd71vKrRk"
      },
      "execution_count": null,
      "outputs": []
    },
    {
      "cell_type": "markdown",
      "source": [
        "# Questions - Plot 1:\n",
        "\n",
        "1a) What can be said about the activity of the place where this data has come from?\n",
        "\n",
        "b) provide a sentence, or two, explaining evidence for your answer in part a).\n",
        "\n",
        "c) At what point can you say that the device measured low ground movement? Compare this to a point on the graph with high ground movement."
      ],
      "metadata": {
        "id": "fRuaPfXqhsGh"
      }
    }
  ]
}